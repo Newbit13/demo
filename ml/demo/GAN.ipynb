{
 "cells": [
  {
   "cell_type": "code",
   "execution_count": 1,
   "source": [
    "\"\"\"\r\n",
    "Know more, visit my Python tutorial page: https://morvanzhou.github.io/tutorials/\r\n",
    "My Youtube Channel: https://www.youtube.com/user/MorvanZhou\r\n",
    "Dependencies:\r\n",
    "tensorflow: 1.1.0\r\n",
    "matplotlib\r\n",
    "numpy\r\n",
    "\"\"\"\r\n",
    "# import tensorflow as tf\r\n",
    "import tensorflow.compat.v1 as tf\r\n",
    "tf.disable_v2_behavior()\r\n",
    "\r\n",
    "import numpy as np\r\n",
    "import matplotlib.pyplot as plt\r\n",
    "\r\n",
    "tf.set_random_seed(1)\r\n",
    "# tf.random.set_seed(1)\r\n",
    "np.random.seed(1)\r\n",
    "\r\n",
    "# Hyper Parameters\r\n",
    "BATCH_SIZE = 64\r\n",
    "LR_G = 0.0001           # learning rate for generator\r\n",
    "LR_D = 0.0001           # learning rate for discriminator\r\n",
    "N_IDEAS = 5             # think of this as number of ideas for generating an art work (Generator)\r\n",
    "ART_COMPONENTS = 15     # it could be total point G can draw in the canvas\r\n",
    "PAINT_POINTS = np.vstack([np.linspace(-1, 1, ART_COMPONENTS) for _ in range(BATCH_SIZE)])\r\n",
    "\r\n",
    "# show our beautiful painting range\r\n",
    "plt.plot(PAINT_POINTS[0], 2 * np.power(PAINT_POINTS[0], 2) + 1, c='#74BCFF', lw=3, label='upper bound')\r\n",
    "plt.plot(PAINT_POINTS[0], 1 * np.power(PAINT_POINTS[0], 2) + 0, c='#FF9359', lw=3, label='lower bound')\r\n",
    "plt.legend(loc='upper right')\r\n",
    "plt.show()\r\n",
    "\r\n",
    "\r\n",
    "def artist_works():     # painting from the famous artist (real target)\r\n",
    "    a = np.random.uniform(1, 2, size=BATCH_SIZE)[:, np.newaxis]\r\n",
    "    paintings = a * np.power(PAINT_POINTS, 2) + (a-1)\r\n",
    "    return paintings\r\n",
    "\r\n",
    "\r\n",
    "with tf.variable_scope('Generator'):\r\n",
    "    G_in = tf.placeholder(tf.float32, [None, N_IDEAS])          # random ideas (could from normal distribution)\r\n",
    "    G_l1 = tf.layers.dense(G_in, 128, tf.nn.relu)\r\n",
    "    G_out = tf.layers.dense(G_l1, ART_COMPONENTS)               # making a painting from these random ideas\r\n",
    "\r\n",
    "with tf.variable_scope('Discriminator'):\r\n",
    "    real_art = tf.placeholder(tf.float32, [None, ART_COMPONENTS], name='real_in')   # receive art work from the famous artist\r\n",
    "    D_l0 = tf.layers.dense(real_art, 128, tf.nn.relu, name='l')\r\n",
    "    prob_artist0 = tf.layers.dense(D_l0, 1, tf.nn.sigmoid, name='out')              # probability that the art work is made by artist\r\n",
    "    # reuse layers for generator\r\n",
    "    D_l1 = tf.layers.dense(G_out, 128, tf.nn.relu, name='l', reuse=True)            # receive art work from a newbie like G\r\n",
    "    prob_artist1 = tf.layers.dense(D_l1, 1, tf.nn.sigmoid, name='out', reuse=True)  # probability that the art work is made by artist\r\n",
    "\r\n",
    "D_loss = -tf.reduce_mean(tf.log(prob_artist0) + tf.log(1-prob_artist1))\r\n",
    "G_loss = tf.reduce_mean(tf.log(1-prob_artist1))\r\n",
    "\r\n",
    "train_D = tf.train.AdamOptimizer(LR_D).minimize(\r\n",
    "    D_loss, var_list=tf.get_collection(tf.GraphKeys.TRAINABLE_VARIABLES, scope='Discriminator'))\r\n",
    "train_G = tf.train.AdamOptimizer(LR_G).minimize(\r\n",
    "    G_loss, var_list=tf.get_collection(tf.GraphKeys.TRAINABLE_VARIABLES, scope='Generator'))\r\n",
    "\r\n",
    "sess = tf.Session()\r\n",
    "sess.run(tf.global_variables_initializer())\r\n",
    "\r\n",
    "plt.ion()   # something about continuous plotting\r\n",
    "for step in range(5000):\r\n",
    "    artist_paintings = artist_works()           # real painting from artist\r\n",
    "    G_ideas = np.random.randn(BATCH_SIZE, N_IDEAS)\r\n",
    "    G_paintings, pa0, Dl = sess.run([G_out, prob_artist0, D_loss, train_D, train_G],    # train and get results\r\n",
    "                                    {G_in: G_ideas, real_art: artist_paintings})[:3]\r\n",
    "\r\n",
    "    if step % 50 == 0:  # plotting\r\n",
    "        plt.cla()\r\n",
    "        plt.plot(PAINT_POINTS[0], G_paintings[0], c='#4AD631', lw=3, label='Generated painting',)\r\n",
    "        plt.plot(PAINT_POINTS[0], 2 * np.power(PAINT_POINTS[0], 2) + 1, c='#74BCFF', lw=3, label='upper bound')\r\n",
    "        plt.plot(PAINT_POINTS[0], 1 * np.power(PAINT_POINTS[0], 2) + 0, c='#FF9359', lw=3, label='lower bound')\r\n",
    "        plt.text(-.5, 2.3, 'D accuracy=%.2f (0.5 for D to converge)' % pa0.mean(), fontdict={'size': 15})\r\n",
    "        plt.text(-.5, 2, 'D score= %.2f (-1.38 for G to converge)' % -Dl, fontdict={'size': 15})\r\n",
    "        plt.ylim((0, 3)); plt.legend(loc='upper right', fontsize=12); plt.draw(); plt.pause(0.01)\r\n",
    "\r\n",
    "plt.ioff()\r\n",
    "plt.show()"
   ],
   "outputs": [
    {
     "output_type": "stream",
     "name": "stdout",
     "text": [
      "WARNING:tensorflow:From D:\\yong_software\\python39\\lib\\site-packages\\tensorflow\\python\\compat\\v2_compat.py:96: disable_resource_variables (from tensorflow.python.ops.variable_scope) is deprecated and will be removed in a future version.\n",
      "Instructions for updating:\n",
      "non-resource variables are not supported in the long term\n"
     ]
    },
    {
     "output_type": "error",
     "ename": "AttributeError",
     "evalue": "module 'tensorflow.compat.v1.random' has no attribute 'set_seed'",
     "traceback": [
      "\u001b[1;31m---------------------------------------------------------------------------\u001b[0m",
      "\u001b[1;31mAttributeError\u001b[0m                            Traceback (most recent call last)",
      "\u001b[1;32m~\\AppData\\Local\\Temp/ipykernel_5152/3417614544.py\u001b[0m in \u001b[0;36m<module>\u001b[1;34m\u001b[0m\n\u001b[0;32m     14\u001b[0m \u001b[1;32mimport\u001b[0m \u001b[0mmatplotlib\u001b[0m\u001b[1;33m.\u001b[0m\u001b[0mpyplot\u001b[0m \u001b[1;32mas\u001b[0m \u001b[0mplt\u001b[0m\u001b[1;33m\u001b[0m\u001b[1;33m\u001b[0m\u001b[0m\n\u001b[0;32m     15\u001b[0m \u001b[1;33m\u001b[0m\u001b[0m\n\u001b[1;32m---> 16\u001b[1;33m \u001b[0mtf\u001b[0m\u001b[1;33m.\u001b[0m\u001b[0mrandom\u001b[0m\u001b[1;33m.\u001b[0m\u001b[0mset_seed\u001b[0m\u001b[1;33m(\u001b[0m\u001b[1;36m1\u001b[0m\u001b[1;33m)\u001b[0m\u001b[1;33m\u001b[0m\u001b[1;33m\u001b[0m\u001b[0m\n\u001b[0m\u001b[0;32m     17\u001b[0m \u001b[0mnp\u001b[0m\u001b[1;33m.\u001b[0m\u001b[0mrandom\u001b[0m\u001b[1;33m.\u001b[0m\u001b[0mseed\u001b[0m\u001b[1;33m(\u001b[0m\u001b[1;36m1\u001b[0m\u001b[1;33m)\u001b[0m\u001b[1;33m\u001b[0m\u001b[1;33m\u001b[0m\u001b[0m\n\u001b[0;32m     18\u001b[0m \u001b[1;33m\u001b[0m\u001b[0m\n",
      "\u001b[1;31mAttributeError\u001b[0m: module 'tensorflow.compat.v1.random' has no attribute 'set_seed'"
     ]
    }
   ],
   "metadata": {}
  }
 ],
 "metadata": {
  "orig_nbformat": 4,
  "language_info": {
   "name": "python",
   "version": "3.9.6",
   "mimetype": "text/x-python",
   "codemirror_mode": {
    "name": "ipython",
    "version": 3
   },
   "pygments_lexer": "ipython3",
   "nbconvert_exporter": "python",
   "file_extension": ".py"
  },
  "kernelspec": {
   "name": "python3",
   "display_name": "Python 3.9.6 64-bit"
  },
  "interpreter": {
   "hash": "9f39d627c48f3cfe03bd5909798566c8d1df8bd6a58957f823d924d9f2b3892d"
  }
 },
 "nbformat": 4,
 "nbformat_minor": 2
}